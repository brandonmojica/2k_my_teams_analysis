{
 "cells": [
  {
   "cell_type": "code",
   "execution_count": 21,
   "metadata": {},
   "outputs": [],
   "source": [
    "from bs4 import BeautifulSoup\n",
    "from pymongo import MongoClient\n",
    "import os\n",
    "import requests\n",
    "from selenium import webdriver\n",
    "import selenium\n",
    "import time\n",
    "import re\n",
    "import pprint\n",
    "\n",
    "\n",
    "#Starter Page\n",
    "\n",
    "\n",
    "\n",
    "# client = MongoClient()\n",
    "# database = client['2k_db_2']   # Database name\n",
    "# collections = database['player_data']\n",
    "\n",
    "#function that gets all of the pages of the site that I want to scrape\n",
    "def get_pages(): \n",
    "\n",
    "    page = 'https://2kmtcentral.com/20/players'\n",
    "    \n",
    "\n",
    "    page_lst = []\n",
    "    counter = 1\n",
    "    \n",
    "    #insert the orignal link to the fron of the list\n",
    "    page_lst.insert(0, 'https://2kmtcentral.com/20/players')\n",
    "    while counter < 40:\n",
    "        page_lst.append(page + '/' + 'page/' +str(counter))\n",
    "        counter+=1\n",
    "    return page_lst    \n",
    "\n",
    "#function that gets all of the player links from the \n",
    "def get_player_links():\n",
    "    player_list = []\n",
    "\n",
    "    for i in get_pages():\n",
    "        webpage = requests.get(i)\n",
    "        soup = BeautifulSoup(webpage.text,'html.parser')\n",
    "        for tag in soup.find_all('a',class_='name box-link'):\n",
    "            link = tag['href']\n",
    "            player_list.append(link)\n",
    "\n",
    "    return player_list\n"
   ]
  },
  {
   "cell_type": "code",
   "execution_count": 26,
   "metadata": {},
   "outputs": [
    {
     "data": {
      "text/plain": [
       "'/Users/brandonmojica/Desktop/Galvanize/Capstones/Capstone_1/2k_my_teams_analysis'"
      ]
     },
     "execution_count": 26,
     "metadata": {},
     "output_type": "execute_result"
    }
   ],
   "source": [
    "pwd"
   ]
  },
  {
   "cell_type": "code",
   "execution_count": 24,
   "metadata": {},
   "outputs": [
    {
     "data": {
      "text/plain": [
       "1191"
      ]
     },
     "execution_count": 24,
     "metadata": {},
     "output_type": "execute_result"
    }
   ],
   "source": [
    "len(get_player_links())"
   ]
  },
  {
   "cell_type": "code",
   "execution_count": 9,
   "metadata": {},
   "outputs": [
    {
     "data": {
      "text/plain": [
       "'https://2kmtcentral.com/20/players/8529/phil-chenier'"
      ]
     },
     "execution_count": 9,
     "metadata": {},
     "output_type": "execute_result"
    }
   ],
   "source": [
    "x[-1]"
   ]
  },
  {
   "cell_type": "code",
   "execution_count": null,
   "metadata": {},
   "outputs": [],
   "source": []
  }
 ],
 "metadata": {
  "kernelspec": {
   "display_name": "Python 3",
   "language": "python",
   "name": "python3"
  },
  "language_info": {
   "codemirror_mode": {
    "name": "ipython",
    "version": 3
   },
   "file_extension": ".py",
   "mimetype": "text/x-python",
   "name": "python",
   "nbconvert_exporter": "python",
   "pygments_lexer": "ipython3",
   "version": "3.7.4"
  }
 },
 "nbformat": 4,
 "nbformat_minor": 2
}
